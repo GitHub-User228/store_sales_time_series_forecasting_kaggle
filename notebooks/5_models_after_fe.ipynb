{
 "cells": [
  {
   "cell_type": "code",
   "execution_count": 1,
   "metadata": {},
   "outputs": [],
   "source": [
    "%load_ext autoreload\n",
    "%autoreload 2"
   ]
  },
  {
   "cell_type": "code",
   "execution_count": 1,
   "metadata": {},
   "outputs": [],
   "source": [
    "import sys\n",
    "import warnings\n",
    "warnings.filterwarnings(\"ignore\")\n",
    "\n",
    "sys.path.append('../src')\n",
    "\n",
    "import pandas as pd\n",
    "from tqdm.auto import tqdm\n",
    "from pathlib import Path\n",
    "from xgboost import XGBRegressor\n",
    "from lightgbm import LGBMRegressor\n",
    "from sklearn.pipeline import Pipeline\n",
    "from category_encoders import CatBoostEncoder\n",
    "from sklearn.compose import ColumnTransformer\n",
    "from sklearn.preprocessing import OneHotEncoder\n",
    "from sklearn.model_selection import TimeSeriesSplit, cross_validate\n",
    "\n",
    "\n",
    "from sales_project.metrics import mean_cv_scores, evaluate\n",
    "from sales_project.models import ClippingRegressor, sequential_predictions\n",
    "from sales_project.utils import save_predictions, save_pkl, save_dict_as_json, reduce_size"
   ]
  },
  {
   "cell_type": "code",
   "execution_count": 2,
   "metadata": {},
   "outputs": [
    {
     "data": {
      "application/vnd.jupyter.widget-view+json": {
       "model_id": "0b443b2bed5e4043a706fb28fc350182",
       "version_major": 2,
       "version_minor": 0
      },
      "text/plain": [
       "  0%|          | 0/64 [00:00<?, ?it/s]"
      ]
     },
     "metadata": {},
     "output_type": "display_data"
    }
   ],
   "source": [
    "df = pd.read_csv('../data/artifacts/df_with_fe.csv', parse_dates=['date'])\n",
    "reduce_size(df)"
   ]
  },
  {
   "cell_type": "code",
   "execution_count": 3,
   "metadata": {},
   "outputs": [],
   "source": [
    "target = \"relative_sales\"\n",
    "num_cols = [\n",
    "    \"onpromotion\",\n",
    "    \"dcoilwtico\",\n",
    "    \"transactions\",\n",
    "    \"scaled_dcoilwtico\",\n",
    "    \"year\",\n",
    "    \"dcoilwtico.lag.1\",\n",
    "    \"transactions.lag.1\",\n",
    "    \"onpromotion.lag.1\",\n",
    "    \"relative_sales.lag.1\",\n",
    "    \"relative_sales.rolling.mean.window.7.lag.1\",\n",
    "    \"relative_sales.expanding.mean.lag.1\",\n",
    "    \"dcoilwtico.lag.2\",\n",
    "    \"transactions.lag.2\",\n",
    "    \"onpromotion.lag.2\",\n",
    "    \"relative_sales.lag.2\",\n",
    "    \"relative_sales.rolling.mean.window.7.lag.2\",\n",
    "    \"relative_sales.expanding.mean.lag.2\",\n",
    "    \"dcoilwtico.lag.3\",\n",
    "    \"transactions.lag.3\",\n",
    "    \"onpromotion.lag.3\",\n",
    "    \"relative_sales.lag.3\",\n",
    "    \"relative_sales.rolling.mean.window.7.lag.3\",\n",
    "    \"relative_sales.expanding.mean.lag.3\",\n",
    "    \"dcoilwtico.lag.4\",\n",
    "    \"transactions.lag.4\",\n",
    "    \"onpromotion.lag.4\",\n",
    "    \"relative_sales.lag.4\",\n",
    "    \"relative_sales.rolling.mean.window.7.lag.4\",\n",
    "    \"relative_sales.expanding.mean.lag.4\",\n",
    "    \"dcoilwtico.lag.5\",\n",
    "    \"transactions.lag.5\",\n",
    "    \"onpromotion.lag.5\",\n",
    "    \"relative_sales.lag.5\",\n",
    "    \"relative_sales.rolling.mean.window.7.lag.5\",\n",
    "    \"relative_sales.expanding.mean.lag.5\",\n",
    "    \"dcoilwtico.lag.6\",\n",
    "    \"transactions.lag.6\",\n",
    "    \"onpromotion.lag.6\",\n",
    "    \"relative_sales.lag.6\",\n",
    "    \"relative_sales.rolling.mean.window.7.lag.6\",\n",
    "    \"relative_sales.expanding.mean.lag.6\",\n",
    "    \"dcoilwtico.lag.7\",\n",
    "    \"transactions.lag.7\",\n",
    "    \"onpromotion.lag.7\",\n",
    "    \"relative_sales.lag.7\",\n",
    "    \"relative_sales.rolling.mean.window.7.lag.7\",\n",
    "    \"relative_sales.expanding.mean.lag.7\",\n",
    "]\n",
    "cbe_cols = [\n",
    "    \"store_nbr\",\n",
    "    \"family\",\n",
    "    \"city\",\n",
    "    \"state\",\n",
    "    \"type\",\n",
    "    \"cluster\",\n",
    "    \"year\",\n",
    "    \"month\",\n",
    "    \"weekday\",\n",
    "]\n",
    "ohe_cols = [\"is_promoted\", \"type\", \"cluster\", \"year\", \"month\", \"weekday\"]\n"
   ]
  },
  {
   "cell_type": "markdown",
   "metadata": {},
   "source": [
    "# LightGBM. Kaggle RMSLE score: 0.49560"
   ]
  },
  {
   "cell_type": "code",
   "execution_count": 4,
   "metadata": {},
   "outputs": [],
   "source": [
    "def init_pipeline(num_cols, cbe_cols, ohe_cols, min_value, max_value):\n",
    "\n",
    "    preprocessor = ColumnTransformer(\n",
    "        [\n",
    "            (\"num\", \"passthrough\", num_cols),\n",
    "            (\n",
    "                \"cbe\",\n",
    "                CatBoostEncoder(cols=cbe_cols),\n",
    "                cbe_cols,\n",
    "            ),\n",
    "            (\n",
    "                \"ohe\",\n",
    "                OneHotEncoder(drop='if_binary'),\n",
    "                ohe_cols,\n",
    "            ),\n",
    "        ],\n",
    "        remainder=\"drop\",\n",
    "        verbose_feature_names_out=True,\n",
    "    )\n",
    "\n",
    "    model = ClippingRegressor(\n",
    "        base_estimator=LGBMRegressor(\n",
    "                verbose=-1,\n",
    "                n_jobs=-1,\n",
    "                random_state=42,\n",
    "        ),\n",
    "        min_value=min_value,\n",
    "        max_value=max_value,\n",
    "    )\n",
    "\n",
    "    pipeline = Pipeline(\n",
    "        [\n",
    "            (\"preprocessor\", preprocessor),\n",
    "            (\"model\", model),\n",
    "        ]\n",
    "    )\n",
    "\n",
    "    return pipeline"
   ]
  },
  {
   "cell_type": "code",
   "execution_count": 5,
   "metadata": {},
   "outputs": [
    {
     "name": "stdout",
     "output_type": "stream",
     "text": [
      "Model file saved at: ../models/feateng_lightgbm3.pkl\n"
     ]
    },
    {
     "data": {
      "application/vnd.jupyter.widget-view+json": {
       "model_id": "fd306260f01149b5b761018b77737b54",
       "version_major": 2,
       "version_minor": 0
      },
      "text/plain": [
       "  0%|          | 0/16 [00:00<?, ?it/s]"
      ]
     },
     "metadata": {},
     "output_type": "display_data"
    },
    {
     "name": "stdout",
     "output_type": "stream",
     "text": [
      "csv file saved at: ../data/predictions/feateng_lightgbm3.csv\n"
     ]
    }
   ],
   "source": [
    "pipeline = init_pipeline(num_cols, cbe_cols, ohe_cols, min_value=1e-8, max_value=df[target].max())\n",
    "pipeline.fit(df.query('subset != \"submission\"'), df.query('subset != \"submission\"')[target])\n",
    "save_pkl(model=pipeline, path=Path('../models/feateng_lightgbm3.pkl'))\n",
    "\n",
    "df = sequential_predictions(\n",
    "    pipeline=pipeline,\n",
    "    data=df,\n",
    "    target_col=target,\n",
    "    timestamp_col='date',\n",
    "    start_date=df.query('subset == \"submission\"')['date'].min(),\n",
    "    end_date=df.query('subset == \"submission\"')['date'].max(),\n",
    ")\n",
    "\n",
    "df['sales'] = df[target] * df['median_sales_over_family']\n",
    "save_predictions(df.query('subset == \"submission\"'), filename='feateng_lightgbm3.csv')"
   ]
  },
  {
   "cell_type": "code",
   "execution_count": 5,
   "metadata": {},
   "outputs": [
    {
     "data": {
      "application/vnd.jupyter.widget-view+json": {
       "model_id": "fda02287da9f4b448cb122f07efb366d",
       "version_major": 2,
       "version_minor": 0
      },
      "text/plain": [
       "  0%|          | 0/92 [00:00<?, ?it/s]"
      ]
     },
     "metadata": {},
     "output_type": "display_data"
    },
    {
     "name": "stdout",
     "output_type": "stream",
     "text": [
      "JSON file saved at: ../scores/test_feateng_lightgbm3.json\n"
     ]
    },
    {
     "data": {
      "text/plain": [
       "{'MAE': 0.5402601455114616,\n",
       " 'RMSE': 0.8528880947479247,\n",
       " 'RMSLE': 0.31402093481445087,\n",
       " 'R2': 0.658074558889086}"
      ]
     },
     "execution_count": 5,
     "metadata": {},
     "output_type": "execute_result"
    }
   ],
   "source": [
    "pipeline = init_pipeline(num_cols, cbe_cols, ohe_cols, min_value=1e-8, max_value=df[target].max())\n",
    "pipeline.fit(df.query('subset == \"train\"'), df.query('subset == \"train\"')[target])\n",
    "\n",
    "y_true = df.query('subset == \"test\"')[target]\n",
    "df = sequential_predictions(\n",
    "    pipeline=pipeline,\n",
    "    data=df,\n",
    "    target_col=target,\n",
    "    timestamp_col='date',\n",
    "    start_date=df.query('subset == \"test\"')['date'].min(),\n",
    "    end_date=df.query('subset == \"test\"')['date'].max(),\n",
    ")\n",
    "\n",
    "metrics = evaluate(y_true, df.query(\"subset == 'test'\")[target])\n",
    "save_dict_as_json(data=metrics, path=Path('../scores/test_feateng_lightgbm3.json'))\n",
    "metrics"
   ]
  },
  {
   "cell_type": "markdown",
   "metadata": {},
   "source": [
    "# XGBoost. Kaggle RMSLE score: 0.51744"
   ]
  },
  {
   "cell_type": "code",
   "execution_count": 10,
   "metadata": {},
   "outputs": [],
   "source": [
    "df = pd.read_csv('../data/artifacts/df_with_fe.csv', parse_dates=['date'])\n",
    "reduce_size(df)"
   ]
  },
  {
   "cell_type": "code",
   "execution_count": 7,
   "metadata": {},
   "outputs": [],
   "source": [
    "def init_pipeline(num_cols, cbe_cols, ohe_cols, min_value, max_value):\n",
    "\n",
    "    preprocessor = ColumnTransformer(\n",
    "        [\n",
    "            (\"num\", \"passthrough\", num_cols),\n",
    "            (\n",
    "                \"cbe\",\n",
    "                CatBoostEncoder(cols=cbe_cols),\n",
    "                cbe_cols,\n",
    "            ),\n",
    "            (\n",
    "                \"ohe\",\n",
    "                OneHotEncoder(drop='if_binary'),\n",
    "                ohe_cols,\n",
    "            ),\n",
    "        ],\n",
    "        remainder=\"drop\",\n",
    "        verbose_feature_names_out=True,\n",
    "    )\n",
    "\n",
    "    model = ClippingRegressor(\n",
    "        XGBRegressor(\n",
    "            verbosity=0,\n",
    "            n_jobs=-1,\n",
    "            random_state=42,\n",
    "        ),\n",
    "        min_value=min_value,\n",
    "        max_value=max_value,\n",
    "    )\n",
    "\n",
    "    pipeline = Pipeline(\n",
    "        [\n",
    "            (\"preprocessor\", preprocessor),\n",
    "            (\"model\", model),\n",
    "        ]\n",
    "    )\n",
    "\n",
    "    return pipeline"
   ]
  },
  {
   "cell_type": "code",
   "execution_count": 8,
   "metadata": {},
   "outputs": [
    {
     "name": "stdout",
     "output_type": "stream",
     "text": [
      "Model file saved at: ../models/feateng_xgboost3.pkl\n"
     ]
    },
    {
     "data": {
      "application/vnd.jupyter.widget-view+json": {
       "model_id": "16fc0476fb4947399fd5b2edff0a503c",
       "version_major": 2,
       "version_minor": 0
      },
      "text/plain": [
       "  0%|          | 0/16 [00:00<?, ?it/s]"
      ]
     },
     "metadata": {},
     "output_type": "display_data"
    },
    {
     "name": "stdout",
     "output_type": "stream",
     "text": [
      "csv file saved at: ../data/predictions/feateng_xgboost3.csv\n"
     ]
    }
   ],
   "source": [
    "pipeline = init_pipeline(num_cols, cbe_cols, ohe_cols, min_value=1e-8, max_value=df[target].max())\n",
    "pipeline.fit(df.query('subset != \"submission\"'), df.query('subset != \"submission\"')[target])\n",
    "save_pkl(model=pipeline, path=Path('../models/feateng_xgboost3.pkl'))\n",
    "\n",
    "df = sequential_predictions(\n",
    "    pipeline=pipeline,\n",
    "    data=df,\n",
    "    target_col=target,\n",
    "    timestamp_col='date',\n",
    "    start_date=df.query('subset == \"submission\"')['date'].min(),\n",
    "    end_date=df.query('subset == \"submission\"')['date'].max(),\n",
    ")\n",
    "\n",
    "df['sales'] = df[target] * df['median_sales_over_family']\n",
    "save_predictions(df.query('subset == \"submission\"'), filename='feateng_xgboost3.csv')"
   ]
  },
  {
   "cell_type": "code",
   "execution_count": 9,
   "metadata": {},
   "outputs": [
    {
     "data": {
      "application/vnd.jupyter.widget-view+json": {
       "model_id": "5d66f617e8564c249b3a77a5ddf86ff0",
       "version_major": 2,
       "version_minor": 0
      },
      "text/plain": [
       "  0%|          | 0/92 [00:00<?, ?it/s]"
      ]
     },
     "metadata": {},
     "output_type": "display_data"
    },
    {
     "name": "stdout",
     "output_type": "stream",
     "text": [
      "JSON file saved at: ../scores/test_feateng_xgboost3.json\n"
     ]
    },
    {
     "data": {
      "text/plain": [
       "{'MAE': 0.5837337374687195,\n",
       " 'RMSE': 0.9633957147598267,\n",
       " 'RMSLE': 0.31831592321395874,\n",
       " 'R2': 0.5637285709381104}"
      ]
     },
     "execution_count": 9,
     "metadata": {},
     "output_type": "execute_result"
    }
   ],
   "source": [
    "pipeline = init_pipeline(num_cols, cbe_cols, ohe_cols, min_value=1e-8, max_value=df[target].max())\n",
    "pipeline.fit(df.query('subset == \"train\"'), df.query('subset == \"train\"')[target])\n",
    "\n",
    "y_true = df.query('subset == \"test\"')[target]\n",
    "df = sequential_predictions(\n",
    "    pipeline=pipeline,\n",
    "    data=df,\n",
    "    target_col=target,\n",
    "    timestamp_col='date',\n",
    "    start_date=df.query('subset == \"test\"')['date'].min(),\n",
    "    end_date=df.query('subset == \"test\"')['date'].max(),\n",
    ")\n",
    "\n",
    "metrics = evaluate(y_true, df.query(\"subset == 'test'\")[target])\n",
    "save_dict_as_json(data=metrics, path=Path('../scores/test_feateng_xgboost3.json'))\n",
    "metrics"
   ]
  }
 ],
 "metadata": {
  "kernelspec": {
   "display_name": "rapids-24.06",
   "language": "python",
   "name": "python3"
  },
  "language_info": {
   "codemirror_mode": {
    "name": "ipython",
    "version": 3
   },
   "file_extension": ".py",
   "mimetype": "text/x-python",
   "name": "python",
   "nbconvert_exporter": "python",
   "pygments_lexer": "ipython3",
   "version": "3.11.9"
  }
 },
 "nbformat": 4,
 "nbformat_minor": 2
}

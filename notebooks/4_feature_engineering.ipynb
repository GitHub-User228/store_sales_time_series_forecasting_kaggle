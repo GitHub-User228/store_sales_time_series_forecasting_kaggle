{
 "cells": [
  {
   "cell_type": "code",
   "execution_count": 1,
   "metadata": {},
   "outputs": [],
   "source": [
    "%load_ext autoreload\n",
    "%autoreload 2"
   ]
  },
  {
   "cell_type": "code",
   "execution_count": 2,
   "metadata": {},
   "outputs": [],
   "source": [
    "import os\n",
    "import sys\n",
    "import warnings\n",
    "import itertools\n",
    "warnings.filterwarnings(\"ignore\")\n",
    "\n",
    "sys.path.append('../src')\n",
    "\n",
    "import pandas as pd\n",
    "import seaborn as sns\n",
    "from tqdm.auto import tqdm\n",
    "import matplotlib.pyplot as plt\n",
    "\n",
    "from sales_project.utils import reduce_size, compare_disributions, get_bins\n",
    "from sales_project.plotters import linear_plot\n",
    "\n",
    "pd.set_option('display.max_rows', 100)\n",
    "\n",
    "sns.set_theme(context='talk', style=\"darkgrid\", palette='dark', font='sans-serif')\n",
    "tqdm.pandas()"
   ]
  },
  {
   "cell_type": "code",
   "execution_count": 3,
   "metadata": {},
   "outputs": [],
   "source": [
    "df = pd.read_csv('../data/artifacts/data_after_eda.csv', parse_dates=['date'])\n",
    "df.sort_values(by=['store_nbr', 'family', 'date'], inplace=True)"
   ]
  },
  {
   "cell_type": "code",
   "execution_count": null,
   "metadata": {},
   "outputs": [],
   "source": [
    "for col in ['store_nbr', 'cluster', 'year', 'month', 'weekday']:\n",
    "    df[col] = df[col].astype('int')"
   ]
  },
  {
   "cell_type": "code",
   "execution_count": 7,
   "metadata": {},
   "outputs": [
    {
     "data": {
      "application/vnd.jupyter.widget-view+json": {
       "model_id": "cfac3343b7f74f2b93b021ce14811e8c",
       "version_major": 2,
       "version_minor": 0
      },
      "text/plain": [
       "  0%|          | 0/20 [00:00<?, ?it/s]"
      ]
     },
     "metadata": {},
     "output_type": "display_data"
    }
   ],
   "source": [
    "reduce_size(df)"
   ]
  },
  {
   "cell_type": "code",
   "execution_count": 8,
   "metadata": {},
   "outputs": [
    {
     "name": "stdout",
     "output_type": "stream",
     "text": [
      "<class 'pandas.core.frame.DataFrame'>\n",
      "Index: 3036528 entries, 0 to 3036527\n",
      "Data columns (total 20 columns):\n",
      " #   Column                    Dtype         \n",
      "---  ------                    -----         \n",
      " 0   id                        uint32        \n",
      " 1   date                      datetime64[ns]\n",
      " 2   store_nbr                 uint8         \n",
      " 3   family                    object        \n",
      " 4   onpromotion               float32       \n",
      " 5   is_submission             bool          \n",
      " 6   city                      object        \n",
      " 7   state                     object        \n",
      " 8   type                      object        \n",
      " 9   cluster                   uint8         \n",
      " 10  dcoilwtico                float32       \n",
      " 11  transactions              float32       \n",
      " 12  median_sales_over_family  float32       \n",
      " 13  relative_sales            float32       \n",
      " 14  subset                    object        \n",
      " 15  scaled_dcoilwtico         float32       \n",
      " 16  is_promoted               bool          \n",
      " 17  year                      uint16        \n",
      " 18  month                     uint8         \n",
      " 19  weekday                   uint8         \n",
      "dtypes: bool(2), datetime64[ns](1), float32(6), object(5), uint16(1), uint32(1), uint8(4)\n",
      "memory usage: 266.4+ MB\n"
     ]
    }
   ],
   "source": [
    "df.info()"
   ]
  },
  {
   "cell_type": "markdown",
   "metadata": {},
   "source": [
    "# 1. Rolling and expanding features"
   ]
  },
  {
   "cell_type": "code",
   "execution_count": 9,
   "metadata": {},
   "outputs": [],
   "source": [
    "def add_rolling_and_expanding_features(df: pd.DataFrame, feat_to_roll: str, kind: str, window: int) -> pd.DataFrame:\n",
    "    \n",
    "    if kind == 'rolling':\n",
    "        new_feat = f\"{feat_to_roll}.{kind}.mean.window.{window}\"\n",
    "        df2 = (\n",
    "            df\n",
    "            .groupby([\"store_nbr\", \"family\"])[feat_to_roll]\n",
    "            .rolling(window=window, min_periods=1)\n",
    "            .mean()\n",
    "            .reset_index()\n",
    "        )\n",
    "    elif kind == 'expanding':\n",
    "        new_feat = f\"{feat_to_roll}.{kind}.mean\"\n",
    "        df2 = (\n",
    "            df\n",
    "            .groupby([\"store_nbr\", \"family\"])[feat_to_roll]\n",
    "            .expanding(min_periods=1)\n",
    "            .mean()\n",
    "            .reset_index()\n",
    "        )\n",
    "    df[new_feat] = df2[feat_to_roll]\n",
    "    return df"
   ]
  },
  {
   "cell_type": "code",
   "execution_count": 10,
   "metadata": {},
   "outputs": [
    {
     "data": {
      "application/vnd.jupyter.widget-view+json": {
       "model_id": "dbe8b495a92845c58d996dbf6f72842c",
       "version_major": 2,
       "version_minor": 0
      },
      "text/plain": [
       "  0%|          | 0/2 [00:00<?, ?it/s]"
      ]
     },
     "metadata": {},
     "output_type": "display_data"
    }
   ],
   "source": [
    "combinations = [\n",
    "    ('rolling', 7),\n",
    "    ('expanding', None,),\n",
    "]\n",
    "\n",
    "for args in tqdm(combinations):\n",
    "    df = add_rolling_and_expanding_features(df=df, feat_to_roll='relative_sales', kind=args[0], window=args[1])"
   ]
  },
  {
   "cell_type": "markdown",
   "metadata": {},
   "source": [
    "# 2. Lag features"
   ]
  },
  {
   "cell_type": "code",
   "execution_count": 11,
   "metadata": {},
   "outputs": [
    {
     "data": {
      "application/vnd.jupyter.widget-view+json": {
       "model_id": "8ae09bea88054092a082dc11c35a3b3c",
       "version_major": 2,
       "version_minor": 0
      },
      "text/plain": [
       "  0%|          | 0/7 [00:00<?, ?it/s]"
      ]
     },
     "metadata": {},
     "output_type": "display_data"
    }
   ],
   "source": [
    "feats_to_lag = [\n",
    "    \"dcoilwtico\",\n",
    "    \"transactions\",\n",
    "    \"onpromotion\",\n",
    "    \"relative_sales\",\n",
    "    \"relative_sales.rolling.mean.window.7\",\n",
    "    \"relative_sales.expanding.mean\",\n",
    "]\n",
    "for lag in tqdm(range(1, 8)):\n",
    "    df = pd.concat(\n",
    "        [\n",
    "            df,\n",
    "            df.groupby([\"store_nbr\", \"family\"])[feats_to_lag]\n",
    "            .shift(lag)\n",
    "            .rename(columns=lambda x: f\"{x}.lag.{lag}\"),\n",
    "        ],\n",
    "        axis=1,\n",
    "    )\n"
   ]
  },
  {
   "cell_type": "code",
   "execution_count": 12,
   "metadata": {},
   "outputs": [
    {
     "data": {
      "application/vnd.jupyter.widget-view+json": {
       "model_id": "9e7fcdf698754b17b9b997a560883f1d",
       "version_major": 2,
       "version_minor": 0
      },
      "text/plain": [
       "  0%|          | 0/64 [00:00<?, ?it/s]"
      ]
     },
     "metadata": {},
     "output_type": "display_data"
    }
   ],
   "source": [
    "reduce_size(df)"
   ]
  },
  {
   "cell_type": "code",
   "execution_count": 13,
   "metadata": {},
   "outputs": [
    {
     "name": "stdout",
     "output_type": "stream",
     "text": [
      "<class 'pandas.core.frame.DataFrame'>\n",
      "Index: 3036528 entries, 0 to 3036527\n",
      "Data columns (total 64 columns):\n",
      " #   Column                                      Dtype         \n",
      "---  ------                                      -----         \n",
      " 0   id                                          uint32        \n",
      " 1   date                                        datetime64[ns]\n",
      " 2   store_nbr                                   uint8         \n",
      " 3   family                                      object        \n",
      " 4   onpromotion                                 float32       \n",
      " 5   is_submission                               bool          \n",
      " 6   city                                        object        \n",
      " 7   state                                       object        \n",
      " 8   type                                        object        \n",
      " 9   cluster                                     uint8         \n",
      " 10  dcoilwtico                                  float32       \n",
      " 11  transactions                                float32       \n",
      " 12  median_sales_over_family                    float32       \n",
      " 13  relative_sales                              float32       \n",
      " 14  subset                                      object        \n",
      " 15  scaled_dcoilwtico                           float32       \n",
      " 16  is_promoted                                 bool          \n",
      " 17  year                                        uint16        \n",
      " 18  month                                       uint8         \n",
      " 19  weekday                                     uint8         \n",
      " 20  relative_sales.rolling.mean.window.7        float32       \n",
      " 21  relative_sales.expanding.mean               float32       \n",
      " 22  dcoilwtico.lag.1                            float32       \n",
      " 23  transactions.lag.1                          float32       \n",
      " 24  onpromotion.lag.1                           float32       \n",
      " 25  relative_sales.lag.1                        float32       \n",
      " 26  relative_sales.rolling.mean.window.7.lag.1  float32       \n",
      " 27  relative_sales.expanding.mean.lag.1         float32       \n",
      " 28  dcoilwtico.lag.2                            float32       \n",
      " 29  transactions.lag.2                          float32       \n",
      " 30  onpromotion.lag.2                           float32       \n",
      " 31  relative_sales.lag.2                        float32       \n",
      " 32  relative_sales.rolling.mean.window.7.lag.2  float32       \n",
      " 33  relative_sales.expanding.mean.lag.2         float32       \n",
      " 34  dcoilwtico.lag.3                            float32       \n",
      " 35  transactions.lag.3                          float32       \n",
      " 36  onpromotion.lag.3                           float32       \n",
      " 37  relative_sales.lag.3                        float32       \n",
      " 38  relative_sales.rolling.mean.window.7.lag.3  float32       \n",
      " 39  relative_sales.expanding.mean.lag.3         float32       \n",
      " 40  dcoilwtico.lag.4                            float32       \n",
      " 41  transactions.lag.4                          float32       \n",
      " 42  onpromotion.lag.4                           float32       \n",
      " 43  relative_sales.lag.4                        float32       \n",
      " 44  relative_sales.rolling.mean.window.7.lag.4  float32       \n",
      " 45  relative_sales.expanding.mean.lag.4         float32       \n",
      " 46  dcoilwtico.lag.5                            float32       \n",
      " 47  transactions.lag.5                          float32       \n",
      " 48  onpromotion.lag.5                           float32       \n",
      " 49  relative_sales.lag.5                        float32       \n",
      " 50  relative_sales.rolling.mean.window.7.lag.5  float32       \n",
      " 51  relative_sales.expanding.mean.lag.5         float32       \n",
      " 52  dcoilwtico.lag.6                            float32       \n",
      " 53  transactions.lag.6                          float32       \n",
      " 54  onpromotion.lag.6                           float32       \n",
      " 55  relative_sales.lag.6                        float32       \n",
      " 56  relative_sales.rolling.mean.window.7.lag.6  float32       \n",
      " 57  relative_sales.expanding.mean.lag.6         float32       \n",
      " 58  dcoilwtico.lag.7                            float32       \n",
      " 59  transactions.lag.7                          float32       \n",
      " 60  onpromotion.lag.7                           float32       \n",
      " 61  relative_sales.lag.7                        float32       \n",
      " 62  relative_sales.rolling.mean.window.7.lag.7  float32       \n",
      " 63  relative_sales.expanding.mean.lag.7         float32       \n",
      "dtypes: bool(2), datetime64[ns](1), float32(50), object(5), uint16(1), uint32(1), uint8(4)\n",
      "memory usage: 776.1+ MB\n"
     ]
    }
   ],
   "source": [
    "df.info()"
   ]
  },
  {
   "cell_type": "code",
   "execution_count": 14,
   "metadata": {},
   "outputs": [],
   "source": [
    "df.to_csv(\"../data/artifacts/df_with_fe.csv\", index=False)"
   ]
  },
  {
   "cell_type": "code",
   "execution_count": null,
   "metadata": {},
   "outputs": [],
   "source": []
  }
 ],
 "metadata": {
  "kernelspec": {
   "display_name": "rapids-24.06",
   "language": "python",
   "name": "python3"
  },
  "language_info": {
   "codemirror_mode": {
    "name": "ipython",
    "version": 3
   },
   "file_extension": ".py",
   "mimetype": "text/x-python",
   "name": "python",
   "nbconvert_exporter": "python",
   "pygments_lexer": "ipython3",
   "version": "3.11.9"
  }
 },
 "nbformat": 4,
 "nbformat_minor": 2
}
